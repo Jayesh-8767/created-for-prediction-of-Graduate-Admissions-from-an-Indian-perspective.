{
 "cells": [
  {
   "cell_type": "code",
   "execution_count": null,
   "id": "bc2dc343",
   "metadata": {},
   "outputs": [],
   "source": [
    "# Context\n",
    "# This dataset is created for prediction of Graduate Admissions from an Indian perspective.\n",
    "\n",
    "# Content\n",
    "# The dataset contains several parameters which are considered important during the application for Masters Programs.\n",
    "# The parameters included are :\n",
    "\n",
    "# GRE Scores ( out of 340 )\n",
    "# TOEFL Scores ( out of 120 )\n",
    "# University Rating ( out of 5 )\n",
    "# Statement of Purpose and Letter of Recommendation Strength ( out of 5 )\n",
    "# Undergraduate GPA ( out of 10 )\n",
    "# Research Experience ( either 0 or 1 )\n",
    "# Chance of Admit ( ranging from 0 to 1 )\n",
    "# Acknowledgements\n",
    "# This dataset is inspired by the UCLA Graduate Dataset. The test scores and GPA are in the older format.\n",
    "# The dataset is owned by Mohan S Acharya.\n",
    "\n",
    "# Inspiration\n",
    "# This dataset was built with the purpose of helping students in shortlisting universities with their profiles. \n",
    "#The predicted output gives them a fair idea about their chances for a particular university.\n",
    "\n",
    "# Citation\n",
    "# Please cite the following if you are interested in using the dataset :\n",
    "# Mohan S Acharya, Asfia Armaan, Aneeta S Antony : A Comparison of Regression Models for Prediction of Graduate Admissions, IEEE International Conference on Computational Intelligence in Data Science 2019\n",
    "\n",
    "# I would like to thank all of you for contributing to this dataset through discussions and questions. \n",
    "#I am in awe of the number of kernels built on this dataset. Some results and visualisations are fantastic and makes me a proud owner of the dataset. Keep em' coming! Thank You."
   ]
  },
  {
   "cell_type": "code",
   "execution_count": 1,
   "id": "cb7b3718",
   "metadata": {},
   "outputs": [],
   "source": [
    "import numpy as np\n",
    "import pandas as pd\n",
    "import seaborn as sns\n",
    "import matplotlib.pyplot as plt\n",
    "\n",
    "import warnings\n",
    "warnings.filterwarnings('ignore')"
   ]
  },
  {
   "cell_type": "code",
   "execution_count": 2,
   "id": "17099394",
   "metadata": {},
   "outputs": [
    {
     "data": {
      "text/html": [
       "<div>\n",
       "<style scoped>\n",
       "    .dataframe tbody tr th:only-of-type {\n",
       "        vertical-align: middle;\n",
       "    }\n",
       "\n",
       "    .dataframe tbody tr th {\n",
       "        vertical-align: top;\n",
       "    }\n",
       "\n",
       "    .dataframe thead th {\n",
       "        text-align: right;\n",
       "    }\n",
       "</style>\n",
       "<table border=\"1\" class=\"dataframe\">\n",
       "  <thead>\n",
       "    <tr style=\"text-align: right;\">\n",
       "      <th></th>\n",
       "      <th>Serial No.</th>\n",
       "      <th>GRE Score</th>\n",
       "      <th>TOEFL Score</th>\n",
       "      <th>University Rating</th>\n",
       "      <th>SOP</th>\n",
       "      <th>LOR</th>\n",
       "      <th>CGPA</th>\n",
       "      <th>Research</th>\n",
       "      <th>Chance of Admit</th>\n",
       "    </tr>\n",
       "  </thead>\n",
       "  <tbody>\n",
       "    <tr>\n",
       "      <th>0</th>\n",
       "      <td>1</td>\n",
       "      <td>337</td>\n",
       "      <td>118</td>\n",
       "      <td>4</td>\n",
       "      <td>4.5</td>\n",
       "      <td>4.5</td>\n",
       "      <td>9.65</td>\n",
       "      <td>1</td>\n",
       "      <td>0.92</td>\n",
       "    </tr>\n",
       "    <tr>\n",
       "      <th>1</th>\n",
       "      <td>2</td>\n",
       "      <td>324</td>\n",
       "      <td>107</td>\n",
       "      <td>4</td>\n",
       "      <td>4.0</td>\n",
       "      <td>4.5</td>\n",
       "      <td>8.87</td>\n",
       "      <td>1</td>\n",
       "      <td>0.76</td>\n",
       "    </tr>\n",
       "    <tr>\n",
       "      <th>2</th>\n",
       "      <td>3</td>\n",
       "      <td>316</td>\n",
       "      <td>104</td>\n",
       "      <td>3</td>\n",
       "      <td>3.0</td>\n",
       "      <td>3.5</td>\n",
       "      <td>8.00</td>\n",
       "      <td>1</td>\n",
       "      <td>0.72</td>\n",
       "    </tr>\n",
       "    <tr>\n",
       "      <th>3</th>\n",
       "      <td>4</td>\n",
       "      <td>322</td>\n",
       "      <td>110</td>\n",
       "      <td>3</td>\n",
       "      <td>3.5</td>\n",
       "      <td>2.5</td>\n",
       "      <td>8.67</td>\n",
       "      <td>1</td>\n",
       "      <td>0.80</td>\n",
       "    </tr>\n",
       "    <tr>\n",
       "      <th>4</th>\n",
       "      <td>5</td>\n",
       "      <td>314</td>\n",
       "      <td>103</td>\n",
       "      <td>2</td>\n",
       "      <td>2.0</td>\n",
       "      <td>3.0</td>\n",
       "      <td>8.21</td>\n",
       "      <td>0</td>\n",
       "      <td>0.65</td>\n",
       "    </tr>\n",
       "  </tbody>\n",
       "</table>\n",
       "</div>"
      ],
      "text/plain": [
       "   Serial No.  GRE Score  TOEFL Score  University Rating  SOP  LOR   CGPA  \\\n",
       "0           1        337          118                  4  4.5   4.5  9.65   \n",
       "1           2        324          107                  4  4.0   4.5  8.87   \n",
       "2           3        316          104                  3  3.0   3.5  8.00   \n",
       "3           4        322          110                  3  3.5   2.5  8.67   \n",
       "4           5        314          103                  2  2.0   3.0  8.21   \n",
       "\n",
       "   Research  Chance of Admit   \n",
       "0         1              0.92  \n",
       "1         1              0.76  \n",
       "2         1              0.72  \n",
       "3         1              0.80  \n",
       "4         0              0.65  "
      ]
     },
     "execution_count": 2,
     "metadata": {},
     "output_type": "execute_result"
    }
   ],
   "source": [
    "df=pd.read_csv('Admission_Predict.csv')\n",
    "df.head()"
   ]
  },
  {
   "cell_type": "code",
   "execution_count": 3,
   "id": "461040ba",
   "metadata": {},
   "outputs": [
    {
     "name": "stdout",
     "output_type": "stream",
     "text": [
      "<class 'pandas.core.frame.DataFrame'>\n",
      "RangeIndex: 400 entries, 0 to 399\n",
      "Data columns (total 9 columns):\n",
      " #   Column             Non-Null Count  Dtype  \n",
      "---  ------             --------------  -----  \n",
      " 0   Serial No.         400 non-null    int64  \n",
      " 1   GRE Score          400 non-null    int64  \n",
      " 2   TOEFL Score        400 non-null    int64  \n",
      " 3   University Rating  400 non-null    int64  \n",
      " 4   SOP                400 non-null    float64\n",
      " 5   LOR                400 non-null    float64\n",
      " 6   CGPA               400 non-null    float64\n",
      " 7   Research           400 non-null    int64  \n",
      " 8   Chance of Admit    400 non-null    float64\n",
      "dtypes: float64(4), int64(5)\n",
      "memory usage: 28.2 KB\n"
     ]
    }
   ],
   "source": [
    "df.info()"
   ]
  },
  {
   "cell_type": "code",
   "execution_count": 4,
   "id": "f0a63547",
   "metadata": {},
   "outputs": [
    {
     "data": {
      "text/html": [
       "<div>\n",
       "<style scoped>\n",
       "    .dataframe tbody tr th:only-of-type {\n",
       "        vertical-align: middle;\n",
       "    }\n",
       "\n",
       "    .dataframe tbody tr th {\n",
       "        vertical-align: top;\n",
       "    }\n",
       "\n",
       "    .dataframe thead th {\n",
       "        text-align: right;\n",
       "    }\n",
       "</style>\n",
       "<table border=\"1\" class=\"dataframe\">\n",
       "  <thead>\n",
       "    <tr style=\"text-align: right;\">\n",
       "      <th></th>\n",
       "      <th>GRE Score</th>\n",
       "      <th>TOEFL Score</th>\n",
       "      <th>University Rating</th>\n",
       "      <th>SOP</th>\n",
       "      <th>LOR</th>\n",
       "      <th>CGPA</th>\n",
       "      <th>Research</th>\n",
       "      <th>Chance of Admit</th>\n",
       "    </tr>\n",
       "  </thead>\n",
       "  <tbody>\n",
       "    <tr>\n",
       "      <th>0</th>\n",
       "      <td>337</td>\n",
       "      <td>118</td>\n",
       "      <td>4</td>\n",
       "      <td>4.5</td>\n",
       "      <td>4.5</td>\n",
       "      <td>9.65</td>\n",
       "      <td>1</td>\n",
       "      <td>0.92</td>\n",
       "    </tr>\n",
       "  </tbody>\n",
       "</table>\n",
       "</div>"
      ],
      "text/plain": [
       "   GRE Score  TOEFL Score  University Rating  SOP  LOR   CGPA  Research  \\\n",
       "0        337          118                  4  4.5   4.5  9.65         1   \n",
       "\n",
       "   Chance of Admit   \n",
       "0              0.92  "
      ]
     },
     "execution_count": 4,
     "metadata": {},
     "output_type": "execute_result"
    }
   ],
   "source": [
    "df.drop(columns=['Serial No.'],axis=1,inplace=True)\n",
    "df.head(1)"
   ]
  },
  {
   "cell_type": "code",
   "execution_count": 5,
   "id": "6ff6d66a",
   "metadata": {},
   "outputs": [
    {
     "data": {
      "text/plain": [
       "<Axes: xlabel='University Rating', ylabel='count'>"
      ]
     },
     "execution_count": 5,
     "metadata": {},
     "output_type": "execute_result"
    },
    {
     "data": {
      "image/png": "[encoded data removed]",
      "text/plain": [
       "<Figure size 432x288 with 1 Axes>"
      ]
     },
     "metadata": {
      "needs_background": "light"
     },
     "output_type": "display_data"
    }
   ],
   "source": [
    "sns.countplot(df['University Rating'])"
   ]
  },
  {
   "cell_type": "code",
   "execution_count": 7,
   "id": "158c01fa",
   "metadata": {},
   "outputs": [
    {
     "data": {
      "text/plain": [
       "3    133\n",
       "2    107\n",
       "4     74\n",
       "5     60\n",
       "1     26\n",
       "Name: University Rating, dtype: int64"
      ]
     },
     "execution_count": 7,
     "metadata": {},
     "output_type": "execute_result"
    }
   ],
   "source": [
    "df['University Rating'].value_counts(ascending=False)"
   ]
  },
  {
   "cell_type": "code",
   "execution_count": 8,
   "id": "ee35d77c",
   "metadata": {},
   "outputs": [
    {
     "data": {
      "text/plain": [
       "<Axes: xlabel='Chance of Admit ', ylabel='GRE Score'>"
      ]
     },
     "execution_count": 8,
     "metadata": {},
     "output_type": "execute_result"
    },
    {
     "data": {
      "image/png": "[encoded data removed]",
      "text/plain": [
       "<Figure size 720x720 with 1 Axes>"
      ]
     },
     "metadata": {
      "needs_background": "light"
     },
     "output_type": "display_data"
    }
   ],
   "source": [
    "plt.figure(figsize=(10,10))\n",
    "\n",
    "sns.scatterplot(x=df['Chance of Admit '],y=df['GRE Score'],hue=df['University Rating'])"
   ]
  },
  {
   "cell_type": "code",
   "execution_count": 11,
   "id": "0e40ef1a",
   "metadata": {},
   "outputs": [
    {
     "name": "stdout",
     "output_type": "stream",
     "text": [
      "                       AvgGRE    AvgTOFEL   AvgCGPA     Admit\n",
      "University Rating                                            \n",
      "1                  303.153846   99.076923  7.745769  0.548077\n",
      "2                  309.177570  103.523364  8.183738  0.625981\n",
      "3                  315.954887  106.887218  8.552256  0.711880\n",
      "4                  324.824324  111.824324  9.021622  0.818108\n",
      "5                  328.333333  113.666667  9.291167  0.888167\n"
     ]
    }
   ],
   "source": [
    "grp=df.groupby(by='University Rating').agg(AvgGRE=('GRE Score','mean'),\n",
    "                                           AvgTOFEL=('TOEFL Score','mean'),\n",
    "                                           AvgCGPA=('CGPA','mean'),\n",
    "                                           Admit=('Chance of Admit ','mean'))\n",
    "                                           \n",
    "print(grp)"
   ]
  },
  {
   "cell_type": "code",
   "execution_count": 15,
   "id": "556f9059",
   "metadata": {},
   "outputs": [
    {
     "data": {
      "text/html": [
       "<div>\n",
       "<style scoped>\n",
       "    .dataframe tbody tr th:only-of-type {\n",
       "        vertical-align: middle;\n",
       "    }\n",
       "\n",
       "    .dataframe tbody tr th {\n",
       "        vertical-align: top;\n",
       "    }\n",
       "\n",
       "    .dataframe thead th {\n",
       "        text-align: right;\n",
       "    }\n",
       "</style>\n",
       "<table border=\"1\" class=\"dataframe\">\n",
       "  <thead>\n",
       "    <tr style=\"text-align: right;\">\n",
       "      <th></th>\n",
       "      <th>GRE Score</th>\n",
       "      <th>TOEFL Score</th>\n",
       "      <th>University Rating</th>\n",
       "      <th>SOP</th>\n",
       "      <th>LOR</th>\n",
       "      <th>CGPA</th>\n",
       "      <th>Research</th>\n",
       "      <th>Chance of Admit</th>\n",
       "    </tr>\n",
       "  </thead>\n",
       "  <tbody>\n",
       "    <tr>\n",
       "      <th>count</th>\n",
       "      <td>52.000000</td>\n",
       "      <td>52.000000</td>\n",
       "      <td>52.0</td>\n",
       "      <td>52.000000</td>\n",
       "      <td>52.000000</td>\n",
       "      <td>52.000000</td>\n",
       "      <td>52.000000</td>\n",
       "      <td>52.000000</td>\n",
       "    </tr>\n",
       "    <tr>\n",
       "      <th>mean</th>\n",
       "      <td>330.480769</td>\n",
       "      <td>114.692308</td>\n",
       "      <td>5.0</td>\n",
       "      <td>4.567308</td>\n",
       "      <td>4.442308</td>\n",
       "      <td>9.379808</td>\n",
       "      <td>0.980769</td>\n",
       "      <td>0.913077</td>\n",
       "    </tr>\n",
       "    <tr>\n",
       "      <th>std</th>\n",
       "      <td>5.916048</td>\n",
       "      <td>3.398607</td>\n",
       "      <td>0.0</td>\n",
       "      <td>0.431923</td>\n",
       "      <td>0.548204</td>\n",
       "      <td>0.282465</td>\n",
       "      <td>0.138675</td>\n",
       "      <td>0.037810</td>\n",
       "    </tr>\n",
       "    <tr>\n",
       "      <th>min</th>\n",
       "      <td>320.000000</td>\n",
       "      <td>107.000000</td>\n",
       "      <td>5.0</td>\n",
       "      <td>3.500000</td>\n",
       "      <td>3.000000</td>\n",
       "      <td>8.660000</td>\n",
       "      <td>0.000000</td>\n",
       "      <td>0.810000</td>\n",
       "    </tr>\n",
       "    <tr>\n",
       "      <th>25%</th>\n",
       "      <td>325.500000</td>\n",
       "      <td>112.000000</td>\n",
       "      <td>5.0</td>\n",
       "      <td>4.000000</td>\n",
       "      <td>4.000000</td>\n",
       "      <td>9.197500</td>\n",
       "      <td>1.000000</td>\n",
       "      <td>0.890000</td>\n",
       "    </tr>\n",
       "    <tr>\n",
       "      <th>50%</th>\n",
       "      <td>331.000000</td>\n",
       "      <td>115.000000</td>\n",
       "      <td>5.0</td>\n",
       "      <td>4.500000</td>\n",
       "      <td>4.500000</td>\n",
       "      <td>9.360000</td>\n",
       "      <td>1.000000</td>\n",
       "      <td>0.920000</td>\n",
       "    </tr>\n",
       "    <tr>\n",
       "      <th>75%</th>\n",
       "      <td>335.000000</td>\n",
       "      <td>118.000000</td>\n",
       "      <td>5.0</td>\n",
       "      <td>5.000000</td>\n",
       "      <td>5.000000</td>\n",
       "      <td>9.570000</td>\n",
       "      <td>1.000000</td>\n",
       "      <td>0.940000</td>\n",
       "    </tr>\n",
       "    <tr>\n",
       "      <th>max</th>\n",
       "      <td>340.000000</td>\n",
       "      <td>120.000000</td>\n",
       "      <td>5.0</td>\n",
       "      <td>5.000000</td>\n",
       "      <td>5.000000</td>\n",
       "      <td>9.910000</td>\n",
       "      <td>1.000000</td>\n",
       "      <td>0.970000</td>\n",
       "    </tr>\n",
       "  </tbody>\n",
       "</table>\n",
       "</div>"
      ],
      "text/plain": [
       "        GRE Score  TOEFL Score  University Rating        SOP       LOR   \\\n",
       "count   52.000000    52.000000               52.0  52.000000  52.000000   \n",
       "mean   330.480769   114.692308                5.0   4.567308   4.442308   \n",
       "std      5.916048     3.398607                0.0   0.431923   0.548204   \n",
       "min    320.000000   107.000000                5.0   3.500000   3.000000   \n",
       "25%    325.500000   112.000000                5.0   4.000000   4.000000   \n",
       "50%    331.000000   115.000000                5.0   4.500000   4.500000   \n",
       "75%    335.000000   118.000000                5.0   5.000000   5.000000   \n",
       "max    340.000000   120.000000                5.0   5.000000   5.000000   \n",
       "\n",
       "            CGPA   Research  Chance of Admit   \n",
       "count  52.000000  52.000000         52.000000  \n",
       "mean    9.379808   0.980769          0.913077  \n",
       "std     0.282465   0.138675          0.037810  \n",
       "min     8.660000   0.000000          0.810000  \n",
       "25%     9.197500   1.000000          0.890000  \n",
       "50%     9.360000   1.000000          0.920000  \n",
       "75%     9.570000   1.000000          0.940000  \n",
       "max     9.910000   1.000000          0.970000  "
      ]
     },
     "execution_count": 15,
     "metadata": {},
     "output_type": "execute_result"
    }
   ],
   "source": [
    "x=df[(df['Chance of Admit ']>0.8) & (df['University Rating']==5)]\n",
    "x.describe()"
   ]
  },
  {
   "cell_type": "code",
   "execution_count": 16,
   "id": "1f4d139c",
   "metadata": {},
   "outputs": [
    {
     "data": {
      "text/plain": [
       "<seaborn.axisgrid.FacetGrid at 0x246b4016f40>"
      ]
     },
     "execution_count": 16,
     "metadata": {},
     "output_type": "execute_result"
    },
    {
     "data": {
      "text/plain": [
       "<Figure size 720x720 with 0 Axes>"
      ]
     },
     "metadata": {},
     "output_type": "display_data"
    },
    {
     "data": {
      "image/png": "[encoded data removed]",
      "text/plain": [
       "<Figure size 454x360 with 1 Axes>"
      ]
     },
     "metadata": {
      "needs_background": "light"
     },
     "output_type": "display_data"
    }
   ],
   "source": [
    "plt.figure(figsize=(10,10))\n",
    "\n",
    "sns.relplot(x=df['TOEFL Score'],y=df['Chance of Admit '],hue=df['University Rating'])"
   ]
  },
  {
   "cell_type": "code",
   "execution_count": 19,
   "id": "f0b2a198",
   "metadata": {},
   "outputs": [
    {
     "data": {
      "text/plain": [
       "<Axes: >"
      ]
     },
     "execution_count": 19,
     "metadata": {},
     "output_type": "execute_result"
    },
    {
     "data": {
      "image/png": "[encoded data removed]",
      "text/plain": [
       "<Figure size 720x720 with 2 Axes>"
      ]
     },
     "metadata": {
      "needs_background": "light"
     },
     "output_type": "display_data"
    }
   ],
   "source": [
    "plt.figure(figsize=(10,10))\n",
    "sns.heatmap(df.corr(),annot=True)"
   ]
  },
  {
   "cell_type": "code",
   "execution_count": 24,
   "id": "79e00f56",
   "metadata": {},
   "outputs": [
    {
     "data": {
      "text/plain": [
       "Index(['GRE Score', 'TOEFL Score', 'University Rating', 'SOP', 'LOR ', 'CGPA',\n",
       "       'Research', 'Chance of Admit '],\n",
       "      dtype='object')"
      ]
     },
     "execution_count": 24,
     "metadata": {},
     "output_type": "execute_result"
    }
   ],
   "source": [
    "df.columns"
   ]
  },
  {
   "cell_type": "code",
   "execution_count": 28,
   "id": "b1a9ce38",
   "metadata": {},
   "outputs": [],
   "source": [
    "x=df.drop(columns='Chance of Admit ',axis=1)\n",
    "y=df['Chance of Admit ']"
   ]
  },
  {
   "cell_type": "code",
   "execution_count": 31,
   "id": "59b38ae9",
   "metadata": {},
   "outputs": [],
   "source": [
    "from sklearn.preprocessing import StandardScaler\n",
    "ss=StandardScaler()\n",
    "x_scaler=ss.fit_transform(x)"
   ]
  },
  {
   "cell_type": "code",
   "execution_count": 34,
   "id": "e85d285a",
   "metadata": {},
   "outputs": [
    {
     "data": {
      "text/plain": [
       "(400, 6)"
      ]
     },
     "execution_count": 34,
     "metadata": {},
     "output_type": "execute_result"
    }
   ],
   "source": [
    "from sklearn.decomposition import PCA\n",
    "pca=PCA(n_components=6)\n",
    "x_pc=pca.fit_transform(x_scaler)\n",
    "x_pc.shape"
   ]
  },
  {
   "cell_type": "code",
   "execution_count": 37,
   "id": "64be3bea",
   "metadata": {},
   "outputs": [],
   "source": [
    "df2=pd.DataFrame(x_pc)"
   ]
  },
  {
   "cell_type": "code",
   "execution_count": 38,
   "id": "12020282",
   "metadata": {},
   "outputs": [
    {
     "data": {
      "text/plain": [
       "<Axes: >"
      ]
     },
     "execution_count": 38,
     "metadata": {},
     "output_type": "execute_result"
    },
    {
     "data": {
      "image/png": "[encoded data removed]",
      "text/plain": [
       "<Figure size 720x720 with 2 Axes>"
      ]
     },
     "metadata": {
      "needs_background": "light"
     },
     "output_type": "display_data"
    }
   ],
   "source": [
    "plt.figure(figsize=(10,10))\n",
    "sns.heatmap(df2.corr(),annot=True)"
   ]
  },
  {
   "cell_type": "code",
   "execution_count": 39,
   "id": "6286a6b7",
   "metadata": {},
   "outputs": [],
   "source": [
    "from sklearn.model_selection import train_test_split\n",
    "from sklearn.linear_model import LinearRegression\n",
    "from sklearn.metrics import r2_score,mean_squared_error"
   ]
  },
  {
   "cell_type": "code",
   "execution_count": 40,
   "id": "ba75535e",
   "metadata": {},
   "outputs": [],
   "source": [
    "x_train,x_test,y_train,y_test=train_test_split(x_pc,y,test_size=0.2,random_state=7)"
   ]
  },
  {
   "cell_type": "code",
   "execution_count": 44,
   "id": "3449766f",
   "metadata": {},
   "outputs": [
    {
     "name": "stdout",
     "output_type": "stream",
     "text": [
      "value of r2 is {0.7990515282560944}\n",
      "value of rmse is {0.06346321922685283}\n",
      "value of adj.r2 is {0.795199480874422}\n"
     ]
    }
   ],
   "source": [
    "from math import sqrt\n",
    "\n",
    "lm=LinearRegression()\n",
    "\n",
    "lm.fit(x_train,y_train)\n",
    "y_train_pred=lm.predict(x_train)\n",
    "q=r2_score(y_train,y_train_pred)\n",
    "rmse_train=sqrt(mean_squared_error(y_train,y_train_pred))\n",
    "\n",
    "# adj r2\n",
    "n=len(y_train)\n",
    "k=x_pc.shape[1]\n",
    "\n",
    "adj_r2=1-((1-r2_score(y_train,y_train_pred))*(n-1)/(n-k-1))\n",
    "\n",
    "print('value of r2 is',{q} )\n",
    "print('value of rmse is',{rmse_train} )\n",
    "print('value of adj.r2 is',{adj_r2} )"
   ]
  },
  {
   "cell_type": "code",
   "execution_count": 45,
   "id": "cf110b18",
   "metadata": {},
   "outputs": [
    {
     "name": "stdout",
     "output_type": "stream",
     "text": [
      "value of r2 is {0.7760886807676564}\n",
      "value of rmse is {0.06879562518732268}\n",
      "value of adj.r2 is {0.7576850106937651}\n"
     ]
    }
   ],
   "source": [
    "# Test data\n",
    "\n",
    "y_test_pred=lm.predict(x_test)\n",
    "q=r2_score(y_test,y_test_pred)\n",
    "rmse_test=sqrt(mean_squared_error(y_test,y_test_pred))\n",
    "\n",
    "# adj r2\n",
    "n=len(y_test)\n",
    "k=x_pc.shape[1]\n",
    "\n",
    "adj_r2=1-((1-r2_score(y_test,y_test_pred))*(n-1)/(n-k-1))\n",
    "\n",
    "print('value of r2 is',{q} )\n",
    "print('value of rmse is',{rmse_test} )\n",
    "print('value of adj.r2 is',{adj_r2} )"
   ]
  },
  {
   "cell_type": "code",
   "execution_count": 47,
   "id": "53d189ce",
   "metadata": {},
   "outputs": [
    {
     "data": {
      "text/plain": [
       "0.0002716100948347582"
      ]
     },
     "execution_count": 47,
     "metadata": {},
     "output_type": "execute_result"
    }
   ],
   "source": [
    "from sklearn.linear_model import LassoCV\n",
    "model = LassoCV(cv=5, random_state=0, max_iter=10000)\n",
    "model.fit(x_train, y_train)\n",
    "model.alpha_"
   ]
  },
  {
   "cell_type": "code",
   "execution_count": 52,
   "id": "946410cd",
   "metadata": {},
   "outputs": [
    {
     "name": "stdout",
     "output_type": "stream",
     "text": [
      "value of r2 is {0.7760886807676564}\n",
      "value of rmse is {0.06862829252584687}\n"
     ]
    }
   ],
   "source": [
    "from sklearn.linear_model import Lasso\n",
    "lasso=Lasso(alpha=model.alpha_)\n",
    "lasso.fit(x_train, y_train)\n",
    "y_pred=lasso.predict(x_test)\n",
    "q=r2_score(y_test,y_test_pred)\n",
    "rmse_test=sqrt(mean_squared_error(y_test,y_pred))\n",
    "\n",
    "print('value of r2 is',{q} )\n",
    "print('value of rmse is',{rmse_test} )"
   ]
  },
  {
   "cell_type": "code",
   "execution_count": 53,
   "id": "b177febb",
   "metadata": {},
   "outputs": [
    {
     "name": "stdout",
     "output_type": "stream",
     "text": [
      "value of r2 is {0.705040872773866}\n",
      "value of rmse is {0.0789593777415535}\n",
      "value of adj.r2 is {0.6807976568374714}\n"
     ]
    }
   ],
   "source": [
    "from sklearn.neighbors import KNeighborsRegressor\n",
    "knn=KNeighborsRegressor(n_neighbors=15)\n",
    "knn.fit(x_train,y_train)\n",
    "y_pred=knn.predict(x_test)\n",
    "q=r2_score(y_test,y_pred)\n",
    "rmse_test=sqrt(mean_squared_error(y_test,y_pred))\n",
    "\n",
    "# adj r2\n",
    "n=len(y_test)\n",
    "k=x_pc.shape[1]\n",
    "\n",
    "adj_r2=1-((1-r2_score(y_test,y_pred))*(n-1)/(n-k-1))\n",
    "\n",
    "print('value of r2 is',{q} )\n",
    "print('value of rmse is',{rmse_test} )\n",
    "print('value of adj.r2 is',{adj_r2} )"
   ]
  },
  {
   "cell_type": "code",
   "execution_count": 54,
   "id": "1d2a2e3a",
   "metadata": {},
   "outputs": [
    {
     "name": "stdout",
     "output_type": "stream",
     "text": [
      "value of r2 is {0.5569178301269879}\n",
      "value of rmse is {0.09677539091483013}\n",
      "value of adj.r2 is {0.5205001175346855}\n"
     ]
    }
   ],
   "source": [
    "from sklearn.tree import DecisionTreeRegressor\n",
    "dt=DecisionTreeRegressor(max_depth=6,min_samples_split=11,random_state=7)\n",
    "dt.fit(x_train,y_train)\n",
    "y_pred=dt.predict(x_test)\n",
    "q=r2_score(y_test,y_pred)\n",
    "rmse_test=sqrt(mean_squared_error(y_test,y_pred))\n",
    "\n",
    "# adj r2\n",
    "n=len(y_test)\n",
    "k=x_pc.shape[1]\n",
    "\n",
    "adj_r2=1-((1-r2_score(y_test,y_pred))*(n-1)/(n-k-1))\n",
    "\n",
    "print('value of r2 is',{q} )\n",
    "print('value of rmse is',{rmse_test} )\n",
    "print('value of adj.r2 is',{adj_r2} )"
   ]
  },
  {
   "cell_type": "code",
   "execution_count": 55,
   "id": "572ebbb3",
   "metadata": {},
   "outputs": [
    {
     "name": "stdout",
     "output_type": "stream",
     "text": [
      "value of r2 is {0.713997388472726}\n",
      "value of rmse is {0.07775132462786488}\n",
      "value of adj.r2 is {0.6904903245115801}\n"
     ]
    }
   ],
   "source": [
    "from sklearn.ensemble import RandomForestRegressor\n",
    "rf=RandomForestRegressor(max_depth=6,min_samples_split=11,random_state=7,n_estimators=20)\n",
    "rf.fit(x_train,y_train)\n",
    "y_pred=rf.predict(x_test)\n",
    "q=r2_score(y_test,y_pred)\n",
    "rmse_test=sqrt(mean_squared_error(y_test,y_pred))\n",
    "\n",
    "# adj r2\n",
    "n=len(y_test)\n",
    "k=x_pc.shape[1]\n",
    "\n",
    "adj_r2=1-((1-r2_score(y_test,y_pred))*(n-1)/(n-k-1))\n",
    "\n",
    "print('value of r2 is',{q} )\n",
    "print('value of rmse is',{rmse_test} )\n",
    "print('value of adj.r2 is',{adj_r2} )"
   ]
  },
  {
   "cell_type": "code",
   "execution_count": 56,
   "id": "ed385571",
   "metadata": {},
   "outputs": [
    {
     "name": "stdout",
     "output_type": "stream",
     "text": [
      "value of r2 is {0.6936173796585516}\n",
      "value of rmse is {0.08047386505416709}\n",
      "value of adj.r2 is {0.6684352464798025}\n"
     ]
    }
   ],
   "source": [
    "from sklearn.svm import SVR\n",
    "svr=SVR(kernel='rbf')\n",
    "svr.fit(x_train,y_train)\n",
    "y_pred=svr.predict(x_test)\n",
    "q=r2_score(y_test,y_pred)\n",
    "rmse_test=sqrt(mean_squared_error(y_test,y_pred))\n",
    "\n",
    "# adj r2\n",
    "n=len(y_test)\n",
    "k=x_pc.shape[1]\n",
    "\n",
    "adj_r2=1-((1-r2_score(y_test,y_pred))*(n-1)/(n-k-1))\n",
    "\n",
    "print('value of r2 is',{q} )\n",
    "print('value of rmse is',{rmse_test} )\n",
    "print('value of adj.r2 is',{adj_r2} )"
   ]
  },
  {
   "cell_type": "code",
   "execution_count": 57,
   "id": "40e1ad37",
   "metadata": {},
   "outputs": [
    {
     "name": "stdout",
     "output_type": "stream",
     "text": [
      "value of r2 is {0.6997657397039168}\n",
      "value of rmse is {0.07966231479187967}\n",
      "value of adj.r2 is {0.6750889511864304}\n"
     ]
    }
   ],
   "source": [
    "from sklearn.ensemble import GradientBoostingRegressor\n",
    "\n",
    "gbr=GradientBoostingRegressor()\n",
    "gbr.fit(x_train,y_train)\n",
    "y_pred=gbr.predict(x_test)\n",
    "q=r2_score(y_test,y_pred)\n",
    "rmse_test=sqrt(mean_squared_error(y_test,y_pred))\n",
    "\n",
    "# adj r2\n",
    "n=len(y_test)\n",
    "k=x_pc.shape[1]\n",
    "\n",
    "adj_r2=1-((1-r2_score(y_test,y_pred))*(n-1)/(n-k-1))\n",
    "\n",
    "print('value of r2 is',{q} )\n",
    "print('value of rmse is',{rmse_test} )\n",
    "print('value of adj.r2 is',{adj_r2} )"
   ]
  },
  {
   "cell_type": "code",
   "execution_count": 58,
   "id": "f7a03a1d",
   "metadata": {},
   "outputs": [
    {
     "name": "stdout",
     "output_type": "stream",
     "text": [
      "value of r2 is {0.6670532334056298}\n",
      "value of rmse is {0.08389000072450709}\n",
      "value of adj.r2 is {0.6396877457403392}\n"
     ]
    }
   ],
   "source": [
    "from sklearn.ensemble import AdaBoostRegressor\n",
    "\n",
    "abr=AdaBoostRegressor()\n",
    "abr.fit(x_train,y_train)\n",
    "y_pred=abr.predict(x_test)\n",
    "q=r2_score(y_test,y_pred)\n",
    "rmse_test=sqrt(mean_squared_error(y_test,y_pred))\n",
    "\n",
    "# adj r2\n",
    "n=len(y_test)\n",
    "k=x_pc.shape[1]\n",
    "\n",
    "adj_r2=1-((1-r2_score(y_test,y_pred))*(n-1)/(n-k-1))\n",
    "\n",
    "print('value of r2 is',{q} )\n",
    "print('value of rmse is',{rmse_test} )\n",
    "print('value of adj.r2 is',{adj_r2} )"
   ]
  },
  {
   "cell_type": "code",
   "execution_count": 59,
   "id": "dd89037c",
   "metadata": {},
   "outputs": [
    {
     "name": "stdout",
     "output_type": "stream",
     "text": [
      "value of r2 is {0.6779564037758405}\n",
      "value of rmse is {0.08250497389193208}\n",
      "value of adj.r2 is {0.6514870670998822}\n"
     ]
    }
   ],
   "source": [
    "from xgboost import XGBRegressor\n",
    "\n",
    "xbr=XGBRegressor()\n",
    "xbr.fit(x_train,y_train)\n",
    "y_pred=xbr.predict(x_test)\n",
    "q=r2_score(y_test,y_pred)\n",
    "rmse_test=sqrt(mean_squared_error(y_test,y_pred))\n",
    "\n",
    "# adj r2\n",
    "n=len(y_test)\n",
    "k=x_pc.shape[1]\n",
    "\n",
    "adj_r2=1-((1-r2_score(y_test,y_pred))*(n-1)/(n-k-1))\n",
    "\n",
    "print('value of r2 is',{q} )\n",
    "print('value of rmse is',{rmse_test} )\n",
    "print('value of adj.r2 is',{adj_r2} )"
   ]
  },
  {
   "cell_type": "code",
   "execution_count": 60,
   "id": "88c5fb91",
   "metadata": {},
   "outputs": [
    {
     "name": "stdout",
     "output_type": "stream",
     "text": [
      "value of r2 is {0.7344761233399723}\n",
      "value of rmse is {0.07491600111215906}\n",
      "value of adj.r2 is {0.7126522430665454}\n"
     ]
    }
   ],
   "source": [
    "from sklearn.ensemble import VotingRegressor\n",
    "\n",
    "voting=VotingRegressor([('lin_reg',lm), ('lasso',lasso), ('knnr',knn) ,\n",
    "                       ('dtr',dt), ('rfr',rf),('svr',svr),('gbr',gbr),\n",
    "                       ('abr',abr),('xbr',xbr)],weights=[1,1,1,1,1,1,1,1,1])\n",
    "\n",
    "voting.fit(x_train,y_train)\n",
    "y_pred=voting.predict(x_test)\n",
    "q=r2_score(y_test,y_pred)\n",
    "rmse_test=sqrt(mean_squared_error(y_test,y_pred))\n",
    "\n",
    "# adj r2\n",
    "n=len(y_test)\n",
    "k=x_pc.shape[1]\n",
    "\n",
    "adj_r2=1-((1-r2_score(y_test,y_pred))*(n-1)/(n-k-1))\n",
    "\n",
    "print('value of r2 is',{q} )\n",
    "print('value of rmse is',{rmse_test} )\n",
    "print('value of adj.r2 is',{adj_r2} )"
   ]
  },
  {
   "cell_type": "code",
   "execution_count": 62,
   "id": "da55b62c",
   "metadata": {},
   "outputs": [
    {
     "data": {
      "text/plain": [
       "{'C': 5, 'gamma': 0.01, 'kernel': 'sigmoid'}"
      ]
     },
     "execution_count": 62,
     "metadata": {},
     "output_type": "execute_result"
    }
   ],
   "source": [
    "from sklearn.model_selection import GridSearchCV\n",
    "param_grid=[{'gamma':[0.1,0.01,0.001,1],'C':[0.1,1,10,5],\n",
    "            'kernel':['rbf','sigmoid']}]\n",
    "sv1=SVR()\n",
    "grid=GridSearchCV(sv1,param_grid,cv=10)\n",
    "grid.fit(x_train,y_train)\n",
    "grid.best_params_"
   ]
  },
  {
   "cell_type": "code",
   "execution_count": 64,
   "id": "28ce1db6",
   "metadata": {},
   "outputs": [
    {
     "name": "stdout",
     "output_type": "stream",
     "text": [
      "value of r2 is {0.7707394409399863}\n",
      "value of rmse is {0.06961253846991329}\n",
      "value of adj.r2 is {0.7518961073186152}\n"
     ]
    }
   ],
   "source": [
    "from sklearn.svm import SVR\n",
    "svr=SVR(kernel='sigmoid',C=5,gamma=.01)\n",
    "svr.fit(x_train,y_train)\n",
    "y_pred=svr.predict(x_test)\n",
    "q=r2_score(y_test,y_pred)\n",
    "rmse_test=sqrt(mean_squared_error(y_test,y_pred))\n",
    "\n",
    "# adj r2\n",
    "n=len(y_test)\n",
    "k=x_pc.shape[1]\n",
    "\n",
    "adj_r2=1-((1-r2_score(y_test,y_pred))*(n-1)/(n-k-1))\n",
    "\n",
    "print('value of r2 is',{q} )\n",
    "print('value of rmse is',{rmse_test} )\n",
    "print('value of adj.r2 is',{adj_r2} )"
   ]
  },
  {
   "cell_type": "code",
   "execution_count": 63,
   "id": "dd2b7584",
   "metadata": {},
   "outputs": [
    {
     "name": "stdout",
     "output_type": "stream",
     "text": [
      "value of r2 is {0.6936173796585516}\n",
      "value of rmse is {0.08047386505416709}\n",
      "value of adj.r2 is {0.6684352464798025}\n"
     ]
    }
   ],
   "source": [
    "from sklearn.svm import SVR\n",
    "svr=SVR(kernel='rbf')\n",
    "svr.fit(x_train,y_train)\n",
    "y_pred=svr.predict(x_test)\n",
    "q=r2_score(y_test,y_pred)\n",
    "rmse_test=sqrt(mean_squared_error(y_test,y_pred))\n",
    "\n",
    "# adj r2\n",
    "n=len(y_test)\n",
    "k=x_pc.shape[1]\n",
    "\n",
    "adj_r2=1-((1-r2_score(y_test,y_pred))*(n-1)/(n-k-1))\n",
    "\n",
    "print('value of r2 is',{q} )\n",
    "print('value of rmse is',{rmse_test} )\n",
    "print('value of adj.r2 is',{adj_r2} )"
   ]
  },
  {
   "cell_type": "code",
   "execution_count": 67,
   "id": "b06eae37",
   "metadata": {},
   "outputs": [
    {
     "data": {
      "text/plain": [
       "{'criterion': 'squared_error',\n",
       " 'max_depth': 15,\n",
       " 'max_leaf_nodes': 20,\n",
       " 'n_estimators': 25}"
      ]
     },
     "execution_count": 67,
     "metadata": {},
     "output_type": "execute_result"
    }
   ],
   "source": [
    "from sklearn.model_selection import GridSearchCV\n",
    "param_grid=[{'max_depth':[5,10,15,20],'max_leaf_nodes':[2,5,7,10,15,20],\n",
    "            'n_estimators':[5,10,15,20,25],'criterion':['squared_error','mean_squared_error']}]\n",
    "rf1=RandomForestRegressor(random_state=7)\n",
    "grid=GridSearchCV(rf1,param_grid,cv=20)\n",
    "grid.fit(x_train,y_train)\n",
    "grid.best_params_"
   ]
  },
  {
   "cell_type": "code",
   "execution_count": 68,
   "id": "72a677d3",
   "metadata": {},
   "outputs": [
    {
     "name": "stdout",
     "output_type": "stream",
     "text": [
      "value of r2 is {0.699896689632423}\n",
      "value of rmse is {0.07964494017223597}\n",
      "value of adj.r2 is {0.6752306641227591}\n"
     ]
    }
   ],
   "source": [
    "from sklearn.ensemble import RandomForestRegressor\n",
    "rf=RandomForestRegressor(max_depth=15,max_leaf_nodes=20,random_state=7,n_estimators=25,\n",
    "                        criterion='squared_error')\n",
    "rf.fit(x_train,y_train)\n",
    "y_pred=rf.predict(x_test)\n",
    "q=r2_score(y_test,y_pred)\n",
    "rmse_test=sqrt(mean_squared_error(y_test,y_pred))\n",
    "\n",
    "# adj r2\n",
    "n=len(y_test)\n",
    "k=x_pc.shape[1]\n",
    "\n",
    "adj_r2=1-((1-r2_score(y_test,y_pred))*(n-1)/(n-k-1))\n",
    "\n",
    "print('value of r2 is',{q} )\n",
    "print('value of rmse is',{rmse_test} )\n",
    "print('value of adj.r2 is',{adj_r2} )"
   ]
  },
  {
   "cell_type": "code",
   "execution_count": null,
   "id": "f649f307",
   "metadata": {},
   "outputs": [],
   "source": []
  },
  {
   "cell_type": "code",
   "execution_count": null,
   "id": "5b10b317",
   "metadata": {},
   "outputs": [],
   "source": []
  },
  {
   "cell_type": "code",
   "execution_count": null,
   "id": "37c42d9f",
   "metadata": {},
   "outputs": [],
   "source": []
  },
  {
   "cell_type": "code",
   "execution_count": null,
   "id": "fa4df9a9",
   "metadata": {},
   "outputs": [],
   "source": []
  },
  {
   "cell_type": "code",
   "execution_count": null,
   "id": "913bc968",
   "metadata": {},
   "outputs": [],
   "source": []
  },
  {
   "cell_type": "code",
   "execution_count": null,
   "id": "2096ca9f",
   "metadata": {},
   "outputs": [],
   "source": []
  },
  {
   "cell_type": "code",
   "execution_count": null,
   "id": "c2b93109",
   "metadata": {},
   "outputs": [],
   "source": []
  },
  {
   "cell_type": "code",
   "execution_count": null,
   "id": "db6edc9b",
   "metadata": {},
   "outputs": [],
   "source": []
  },
  {
   "cell_type": "code",
   "execution_count": null,
   "id": "d4a71660",
   "metadata": {},
   "outputs": [],
   "source": []
  },
  {
   "cell_type": "code",
   "execution_count": null,
   "id": "941a114c",
   "metadata": {},
   "outputs": [],
   "source": []
  },
  {
   "cell_type": "code",
   "execution_count": null,
   "id": "9c138795",
   "metadata": {},
   "outputs": [],
   "source": []
  },
  {
   "cell_type": "code",
   "execution_count": null,
   "id": "288b3f37",
   "metadata": {},
   "outputs": [],
   "source": []
  },
  {
   "cell_type": "code",
   "execution_count": null,
   "id": "5bbb510e",
   "metadata": {},
   "outputs": [],
   "source": []
  },
  {
   "cell_type": "code",
   "execution_count": null,
   "id": "eb6b0284",
   "metadata": {},
   "outputs": [],
   "source": []
  },
  {
   "cell_type": "code",
   "execution_count": null,
   "id": "e9cdd85b",
   "metadata": {},
   "outputs": [],
   "source": []
  },
  {
   "cell_type": "code",
   "execution_count": null,
   "id": "e74c302b",
   "metadata": {},
   "outputs": [],
   "source": []
  },
  {
   "cell_type": "code",
   "execution_count": null,
   "id": "63227a7f",
   "metadata": {},
   "outputs": [],
   "source": []
  },
  {
   "cell_type": "code",
   "execution_count": null,
   "id": "03ded380",
   "metadata": {},
   "outputs": [],
   "source": []
  },
  {
   "cell_type": "code",
   "execution_count": null,
   "id": "789d7ea9",
   "metadata": {},
   "outputs": [],
   "source": []
  },
  {
   "cell_type": "code",
   "execution_count": null,
   "id": "0b3f8291",
   "metadata": {},
   "outputs": [],
   "source": []
  },
  {
   "cell_type": "code",
   "execution_count": null,
   "id": "9febf92c",
   "metadata": {},
   "outputs": [],
   "source": []
  },
  {
   "cell_type": "code",
   "execution_count": null,
   "id": "3b741dca",
   "metadata": {},
   "outputs": [],
   "source": []
  },
  {
   "cell_type": "code",
   "execution_count": null,
   "id": "01aaa198",
   "metadata": {},
   "outputs": [],
   "source": []
  },
  {
   "cell_type": "code",
   "execution_count": null,
   "id": "1fceadd9",
   "metadata": {},
   "outputs": [],
   "source": []
  },
  {
   "cell_type": "code",
   "execution_count": null,
   "id": "a9434540",
   "metadata": {},
   "outputs": [],
   "source": []
  },
  {
   "cell_type": "code",
   "execution_count": null,
   "id": "3357a411",
   "metadata": {},
   "outputs": [],
   "source": []
  },
  {
   "cell_type": "code",
   "execution_count": null,
   "id": "895376f0",
   "metadata": {},
   "outputs": [],
   "source": []
  },
  {
   "cell_type": "code",
   "execution_count": null,
   "id": "96588a7f",
   "metadata": {},
   "outputs": [],
   "source": []
  },
  {
   "cell_type": "code",
   "execution_count": null,
   "id": "7473cb81",
   "metadata": {},
   "outputs": [],
   "source": []
  },
  {
   "cell_type": "code",
   "execution_count": null,
   "id": "387885e0",
   "metadata": {},
   "outputs": [],
   "source": []
  },
  {
   "cell_type": "code",
   "execution_count": null,
   "id": "cfc1b2f0",
   "metadata": {},
   "outputs": [],
   "source": []
  },
  {
   "cell_type": "code",
   "execution_count": null,
   "id": "a4fb97f7",
   "metadata": {},
   "outputs": [],
   "source": []
  },
  {
   "cell_type": "code",
   "execution_count": null,
   "id": "faceaa56",
   "metadata": {},
   "outputs": [],
   "source": []
  },
  {
   "cell_type": "code",
   "execution_count": null,
   "id": "0a041358",
   "metadata": {},
   "outputs": [],
   "source": []
  },
  {
   "cell_type": "code",
   "execution_count": null,
   "id": "9faf5384",
   "metadata": {},
   "outputs": [],
   "source": []
  },
  {
   "cell_type": "code",
   "execution_count": null,
   "id": "39dba0b8",
   "metadata": {},
   "outputs": [],
   "source": []
  },
  {
   "cell_type": "code",
   "execution_count": null,
   "id": "a12abf2d",
   "metadata": {},
   "outputs": [],
   "source": []
  }
 ],
 "metadata": {
  "kernelspec": {
   "display_name": "Python 3 (ipykernel)",
   "language": "python",
   "name": "python3"
  },
  "language_info": {
   "codemirror_mode": {
    "name": "ipython",
    "version": 3
   },
   "file_extension": ".py",
   "mimetype": "text/x-python",
   "name": "python",
   "nbconvert_exporter": "python",
   "pygments_lexer": "ipython3",
   "version": "3.9.7"
  }
 },
 "nbformat": 4,
 "nbformat_minor": 5
}
